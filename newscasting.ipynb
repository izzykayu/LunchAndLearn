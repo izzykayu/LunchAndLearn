{
 "cells": [
  {
   "cell_type": "code",
   "execution_count": 1,
   "id": "2218afcd-6f92-4724-8f00-cd972f08ac38",
   "metadata": {},
   "outputs": [],
   "source": [
    "%matplotlib inline\n",
    "\n",
    "import numpy as np\n",
    "import pandas as pd\n",
    "import statsmodels.api as sm\n",
    "import matplotlib.pyplot as plt\n",
    "\n",
    "macrodata = sm.datasets.macrodata.load_pandas().data\n",
    "macrodata.index = pd.period_range('1959Q1', '2009Q3', freq='Q')"
   ]
  },
  {
   "cell_type": "code",
   "execution_count": 10,
   "id": "9e446ac6-d6bf-49fe-b2d4-49ff4d2a5018",
   "metadata": {},
   "outputs": [],
   "source": [
    "macrodata = pd.read_excel('data/macrodata.xlsx', index_col=0)"
   ]
  },
  {
   "cell_type": "code",
   "execution_count": 11,
   "id": "0d8de18d-5eb8-4596-8c1c-252c48aef2cd",
   "metadata": {},
   "outputs": [
    {
     "data": {
      "text/html": [
       "<div>\n",
       "<style scoped>\n",
       "    .dataframe tbody tr th:only-of-type {\n",
       "        vertical-align: middle;\n",
       "    }\n",
       "\n",
       "    .dataframe tbody tr th {\n",
       "        vertical-align: top;\n",
       "    }\n",
       "\n",
       "    .dataframe thead th {\n",
       "        text-align: right;\n",
       "    }\n",
       "</style>\n",
       "<table border=\"1\" class=\"dataframe\">\n",
       "  <thead>\n",
       "    <tr style=\"text-align: right;\">\n",
       "      <th></th>\n",
       "      <th>year</th>\n",
       "      <th>quarter</th>\n",
       "      <th>realgdp</th>\n",
       "      <th>realcons</th>\n",
       "      <th>realinv</th>\n",
       "      <th>realgovt</th>\n",
       "      <th>realdpi</th>\n",
       "      <th>cpi</th>\n",
       "      <th>m1</th>\n",
       "      <th>tbilrate</th>\n",
       "      <th>unemp</th>\n",
       "      <th>pop</th>\n",
       "      <th>infl</th>\n",
       "      <th>realint</th>\n",
       "    </tr>\n",
       "  </thead>\n",
       "  <tbody>\n",
       "    <tr>\n",
       "      <th>1959-01-01</th>\n",
       "      <td>1959</td>\n",
       "      <td>1</td>\n",
       "      <td>2710.349</td>\n",
       "      <td>1707.4</td>\n",
       "      <td>286.898</td>\n",
       "      <td>470.045</td>\n",
       "      <td>1886.9</td>\n",
       "      <td>28.980</td>\n",
       "      <td>139.7</td>\n",
       "      <td>2.82</td>\n",
       "      <td>5.8</td>\n",
       "      <td>177.146</td>\n",
       "      <td>0.00</td>\n",
       "      <td>0.00</td>\n",
       "    </tr>\n",
       "    <tr>\n",
       "      <th>1959-04-01</th>\n",
       "      <td>1959</td>\n",
       "      <td>2</td>\n",
       "      <td>2778.801</td>\n",
       "      <td>1733.7</td>\n",
       "      <td>310.859</td>\n",
       "      <td>481.301</td>\n",
       "      <td>1919.7</td>\n",
       "      <td>29.150</td>\n",
       "      <td>141.7</td>\n",
       "      <td>3.08</td>\n",
       "      <td>5.1</td>\n",
       "      <td>177.830</td>\n",
       "      <td>2.34</td>\n",
       "      <td>0.74</td>\n",
       "    </tr>\n",
       "    <tr>\n",
       "      <th>1959-07-01</th>\n",
       "      <td>1959</td>\n",
       "      <td>3</td>\n",
       "      <td>2775.488</td>\n",
       "      <td>1751.8</td>\n",
       "      <td>289.226</td>\n",
       "      <td>491.260</td>\n",
       "      <td>1916.4</td>\n",
       "      <td>29.350</td>\n",
       "      <td>140.5</td>\n",
       "      <td>3.82</td>\n",
       "      <td>5.3</td>\n",
       "      <td>178.657</td>\n",
       "      <td>2.74</td>\n",
       "      <td>1.09</td>\n",
       "    </tr>\n",
       "    <tr>\n",
       "      <th>1959-10-01</th>\n",
       "      <td>1959</td>\n",
       "      <td>4</td>\n",
       "      <td>2785.204</td>\n",
       "      <td>1753.7</td>\n",
       "      <td>299.356</td>\n",
       "      <td>484.052</td>\n",
       "      <td>1931.3</td>\n",
       "      <td>29.370</td>\n",
       "      <td>140.0</td>\n",
       "      <td>4.33</td>\n",
       "      <td>5.6</td>\n",
       "      <td>179.386</td>\n",
       "      <td>0.27</td>\n",
       "      <td>4.06</td>\n",
       "    </tr>\n",
       "    <tr>\n",
       "      <th>1960-01-01</th>\n",
       "      <td>1960</td>\n",
       "      <td>1</td>\n",
       "      <td>2847.699</td>\n",
       "      <td>1770.5</td>\n",
       "      <td>331.722</td>\n",
       "      <td>462.199</td>\n",
       "      <td>1955.5</td>\n",
       "      <td>29.540</td>\n",
       "      <td>139.6</td>\n",
       "      <td>3.50</td>\n",
       "      <td>5.2</td>\n",
       "      <td>180.007</td>\n",
       "      <td>2.31</td>\n",
       "      <td>1.19</td>\n",
       "    </tr>\n",
       "    <tr>\n",
       "      <th>...</th>\n",
       "      <td>...</td>\n",
       "      <td>...</td>\n",
       "      <td>...</td>\n",
       "      <td>...</td>\n",
       "      <td>...</td>\n",
       "      <td>...</td>\n",
       "      <td>...</td>\n",
       "      <td>...</td>\n",
       "      <td>...</td>\n",
       "      <td>...</td>\n",
       "      <td>...</td>\n",
       "      <td>...</td>\n",
       "      <td>...</td>\n",
       "      <td>...</td>\n",
       "    </tr>\n",
       "    <tr>\n",
       "      <th>2008-07-01</th>\n",
       "      <td>2008</td>\n",
       "      <td>3</td>\n",
       "      <td>13324.600</td>\n",
       "      <td>9267.7</td>\n",
       "      <td>1990.693</td>\n",
       "      <td>991.551</td>\n",
       "      <td>9838.3</td>\n",
       "      <td>216.889</td>\n",
       "      <td>1474.7</td>\n",
       "      <td>1.17</td>\n",
       "      <td>6.0</td>\n",
       "      <td>305.270</td>\n",
       "      <td>-3.16</td>\n",
       "      <td>4.33</td>\n",
       "    </tr>\n",
       "    <tr>\n",
       "      <th>2008-10-01</th>\n",
       "      <td>2008</td>\n",
       "      <td>4</td>\n",
       "      <td>13141.920</td>\n",
       "      <td>9195.3</td>\n",
       "      <td>1857.661</td>\n",
       "      <td>1007.273</td>\n",
       "      <td>9920.4</td>\n",
       "      <td>212.174</td>\n",
       "      <td>1576.5</td>\n",
       "      <td>0.12</td>\n",
       "      <td>6.9</td>\n",
       "      <td>305.952</td>\n",
       "      <td>-8.79</td>\n",
       "      <td>8.91</td>\n",
       "    </tr>\n",
       "    <tr>\n",
       "      <th>2009-01-01</th>\n",
       "      <td>2009</td>\n",
       "      <td>1</td>\n",
       "      <td>12925.410</td>\n",
       "      <td>9209.2</td>\n",
       "      <td>1558.494</td>\n",
       "      <td>996.287</td>\n",
       "      <td>9926.4</td>\n",
       "      <td>212.671</td>\n",
       "      <td>1592.8</td>\n",
       "      <td>0.22</td>\n",
       "      <td>8.1</td>\n",
       "      <td>306.547</td>\n",
       "      <td>0.94</td>\n",
       "      <td>-0.71</td>\n",
       "    </tr>\n",
       "    <tr>\n",
       "      <th>2009-04-01</th>\n",
       "      <td>2009</td>\n",
       "      <td>2</td>\n",
       "      <td>12901.504</td>\n",
       "      <td>9189.0</td>\n",
       "      <td>1456.678</td>\n",
       "      <td>1023.528</td>\n",
       "      <td>10077.5</td>\n",
       "      <td>214.469</td>\n",
       "      <td>1653.6</td>\n",
       "      <td>0.18</td>\n",
       "      <td>9.2</td>\n",
       "      <td>307.226</td>\n",
       "      <td>3.37</td>\n",
       "      <td>-3.19</td>\n",
       "    </tr>\n",
       "    <tr>\n",
       "      <th>2009-07-01</th>\n",
       "      <td>2009</td>\n",
       "      <td>3</td>\n",
       "      <td>12990.341</td>\n",
       "      <td>9256.0</td>\n",
       "      <td>1486.398</td>\n",
       "      <td>1044.088</td>\n",
       "      <td>10040.6</td>\n",
       "      <td>216.385</td>\n",
       "      <td>1673.9</td>\n",
       "      <td>0.12</td>\n",
       "      <td>9.6</td>\n",
       "      <td>308.013</td>\n",
       "      <td>3.56</td>\n",
       "      <td>-3.44</td>\n",
       "    </tr>\n",
       "  </tbody>\n",
       "</table>\n",
       "<p>203 rows × 14 columns</p>\n",
       "</div>"
      ],
      "text/plain": [
       "            year  quarter    realgdp  realcons   realinv  realgovt  realdpi  \\\n",
       "1959-01-01  1959        1   2710.349    1707.4   286.898   470.045   1886.9   \n",
       "1959-04-01  1959        2   2778.801    1733.7   310.859   481.301   1919.7   \n",
       "1959-07-01  1959        3   2775.488    1751.8   289.226   491.260   1916.4   \n",
       "1959-10-01  1959        4   2785.204    1753.7   299.356   484.052   1931.3   \n",
       "1960-01-01  1960        1   2847.699    1770.5   331.722   462.199   1955.5   \n",
       "...          ...      ...        ...       ...       ...       ...      ...   \n",
       "2008-07-01  2008        3  13324.600    9267.7  1990.693   991.551   9838.3   \n",
       "2008-10-01  2008        4  13141.920    9195.3  1857.661  1007.273   9920.4   \n",
       "2009-01-01  2009        1  12925.410    9209.2  1558.494   996.287   9926.4   \n",
       "2009-04-01  2009        2  12901.504    9189.0  1456.678  1023.528  10077.5   \n",
       "2009-07-01  2009        3  12990.341    9256.0  1486.398  1044.088  10040.6   \n",
       "\n",
       "                cpi      m1  tbilrate  unemp      pop  infl  realint  \n",
       "1959-01-01   28.980   139.7      2.82    5.8  177.146  0.00     0.00  \n",
       "1959-04-01   29.150   141.7      3.08    5.1  177.830  2.34     0.74  \n",
       "1959-07-01   29.350   140.5      3.82    5.3  178.657  2.74     1.09  \n",
       "1959-10-01   29.370   140.0      4.33    5.6  179.386  0.27     4.06  \n",
       "1960-01-01   29.540   139.6      3.50    5.2  180.007  2.31     1.19  \n",
       "...             ...     ...       ...    ...      ...   ...      ...  \n",
       "2008-07-01  216.889  1474.7      1.17    6.0  305.270 -3.16     4.33  \n",
       "2008-10-01  212.174  1576.5      0.12    6.9  305.952 -8.79     8.91  \n",
       "2009-01-01  212.671  1592.8      0.22    8.1  306.547  0.94    -0.71  \n",
       "2009-04-01  214.469  1653.6      0.18    9.2  307.226  3.37    -3.19  \n",
       "2009-07-01  216.385  1673.9      0.12    9.6  308.013  3.56    -3.44  \n",
       "\n",
       "[203 rows x 14 columns]"
      ]
     },
     "execution_count": 11,
     "metadata": {},
     "output_type": "execute_result"
    }
   ],
   "source": [
    "macrodata"
   ]
  },
  {
   "cell_type": "code",
   "execution_count": 15,
   "id": "15574300-33f0-4201-a48b-b6caf7d1c507",
   "metadata": {},
   "outputs": [
    {
     "data": {
      "image/png": "[encoded data removed]",
      "text/plain": [
       "<Figure size 1080x216 with 1 Axes>"
      ]
     },
     "metadata": {
      "needs_background": "light"
     },
     "output_type": "display_data"
    }
   ],
   "source": [
    "# De-mean the inflation series\n",
    "y = macrodata['infl'] - macrodata['infl'].mean()\n",
    "\n",
    "# plotting\n",
    "y_pre = y.iloc[:-5]\n",
    "y_pre.plot(figsize=(15, 3),color='purple', title='Inflation');"
   ]
  },
  {
   "cell_type": "code",
   "execution_count": 21,
   "id": "05c50873-bbdf-462b-b6f9-3c1bd8626337",
   "metadata": {},
   "outputs": [
    {
     "name": "stdout",
     "output_type": "stream",
     "text": [
      "                               SARIMAX Results                                \n",
      "==============================================================================\n",
      "Dep. Variable:                   infl   No. Observations:                  198\n",
      "Model:                 ARIMA(1, 0, 0)   Log Likelihood                -446.407\n",
      "Date:                Mon, 06 Jun 2022   AIC                            896.813\n",
      "Time:                        14:14:25   BIC                            903.390\n",
      "Sample:                    01-01-1959   HQIC                           899.475\n",
      "                         - 04-01-2008                                         \n",
      "Covariance Type:                  opg                                         \n",
      "==============================================================================\n",
      "                 coef    std err          z      P>|z|      [0.025      0.975]\n",
      "------------------------------------------------------------------------------\n",
      "ar.L1          0.6751      0.043     15.858      0.000       0.592       0.759\n",
      "sigma2         5.3027      0.367     14.459      0.000       4.584       6.022\n",
      "===================================================================================\n",
      "Ljung-Box (L1) (Q):                  15.65   Jarque-Bera (JB):                43.04\n",
      "Prob(Q):                              0.00   Prob(JB):                         0.00\n",
      "Heteroskedasticity (H):               0.85   Skew:                             0.18\n",
      "Prob(H) (two-sided):                  0.50   Kurtosis:                         5.26\n",
      "===================================================================================\n",
      "\n",
      "Warnings:\n",
      "[1] Covariance matrix calculated using the outer product of gradients (complex-step).\n"
     ]
    }
   ],
   "source": [
    "mod_pre = sm.tsa.arima.ARIMA(y_pre, order=(1, 0, 0), trend='n')\n",
    "res_pre = mod_pre.fit()\n",
    "print(res_pre.summary())\n",
    "import warnings\n",
    "warnings.filterwarnings(\"ignore\")"
   ]
  },
  {
   "cell_type": "code",
   "execution_count": 22,
   "id": "bea1bfa2-18f8-47a6-8bf0-597317cb4c5a",
   "metadata": {},
   "outputs": [
    {
     "data": {
      "image/png": "[encoded data removed]",
      "text/plain": [
       "<Figure size 1080x216 with 1 Axes>"
      ]
     },
     "metadata": {
      "needs_background": "light"
     },
     "output_type": "display_data"
    }
   ],
   "source": [
    "# Compute the forecasts\n",
    "forecasts_pre = res_pre.forecast(4)\n",
    "\n",
    "# Plot the last 3 years of data and the four out-of-sample forecasts\n",
    "y_pre.iloc[-12:].plot(figsize=(15, 3), label='Data', legend=True)\n",
    "forecasts_pre.plot(label='Forecast', legend=True);"
   ]
  },
  {
   "cell_type": "code",
   "execution_count": 23,
   "id": "6ed39411-e713-4837-982d-10c3a675a531",
   "metadata": {},
   "outputs": [
    {
     "name": "stdout",
     "output_type": "stream",
     "text": [
      "            predicted_mean         0\n",
      "2008-07-01        3.084388  3.084388\n",
      "2008-10-01        2.082323  2.082323\n",
      "2009-01-01        1.405812  1.405812\n",
      "2009-04-01        0.949088  0.949088\n"
     ]
    }
   ],
   "source": [
    "# Get the estimated AR(1) coefficient\n",
    "phi_hat = res_pre.params[0]\n",
    "\n",
    "# Get the last observed value of the variable\n",
    "y_T = y_pre.iloc[-1]\n",
    "\n",
    "# Directly compute the forecasts at the horizons h=1,2,3,4\n",
    "manual_forecasts = pd.Series([phi_hat * y_T, phi_hat**2 * y_T,\n",
    "                              phi_hat**3 * y_T, phi_hat**4 * y_T],\n",
    "                             index=forecasts_pre.index)\n",
    "\n",
    "# We'll print the two to double-check that they're the same\n",
    "print(pd.concat([forecasts_pre, manual_forecasts], axis=1))"
   ]
  },
  {
   "cell_type": "code",
   "execution_count": 24,
   "id": "c72494c7-ffd9-4a79-8d89-202750b6d97a",
   "metadata": {},
   "outputs": [
    {
     "name": "stdout",
     "output_type": "stream",
     "text": [
      "Forecast error: -10.21\n"
     ]
    }
   ],
   "source": [
    "# Get the next observation after the \"pre\" dataset\n",
    "y_update = y.iloc[-5:-4]\n",
    "\n",
    "# Print the forecast error\n",
    "print('Forecast error: %.2f' % (y_update.iloc[0] - forecasts_pre.iloc[0]))"
   ]
  },
  {
   "cell_type": "code",
   "execution_count": 25,
   "id": "24f6eb3d-c2a7-4a0a-9d05-b8605d6006e6",
   "metadata": {},
   "outputs": [
    {
     "name": "stdout",
     "output_type": "stream",
     "text": [
      "2008-07-01   -7.121330\n",
      "2008-10-01   -4.807732\n",
      "2009-01-01   -3.245783\n",
      "2009-04-01   -2.191284\n",
      "dtype: float64\n"
     ]
    }
   ],
   "source": [
    "# Create a new results object by passing the new observations to the `append` method\n",
    "res_post = res_pre.append(y_update)\n",
    "\n",
    "# Since we now know the value for 2008Q3, we will only use `res_post` to\n",
    "# produce forecasts for 2008Q4 through 2009Q2\n",
    "forecasts_post = pd.concat([y_update, res_post.forecast('2009Q2')])\n",
    "print(forecasts_post)"
   ]
  },
  {
   "cell_type": "code",
   "execution_count": 26,
   "id": "cf6714d4-7aa7-4094-9019-1058c4d81403",
   "metadata": {},
   "outputs": [],
   "source": [
    "# Compute the impact of the news on the four periods that we previously\n",
    "# forecasted: 2008Q3 through 2009Q2\n",
    "news = res_pre.news(res_post, start='2008Q3', end='2009Q2')\n",
    "# Note: one alternative way to specify these impact dates is\n",
    "# `start='2008Q3', periods=4`"
   ]
  },
  {
   "cell_type": "code",
   "execution_count": 27,
   "id": "422fc5dc-9b3e-45e0-93f6-94366898d237",
   "metadata": {},
   "outputs": [
    {
     "name": "stdout",
     "output_type": "stream",
     "text": [
      "update date  updated variable\n",
      "2008-07-01   infl               -10.205718\n",
      "Name: news, dtype: float64\n",
      "\n",
      "-10.205718\n"
     ]
    }
   ],
   "source": [
    "# Print the news, computed by the `news` method\n",
    "print(news.news)\n",
    "\n",
    "# Manually compute the news\n",
    "print()\n",
    "print((y_update.iloc[0] - phi_hat * y_pre.iloc[-1]).round(6))"
   ]
  },
  {
   "cell_type": "code",
   "execution_count": 28,
   "id": "c9e5a0bd-7b5d-409c-896d-a921f891f169",
   "metadata": {},
   "outputs": [
    {
     "name": "stdout",
     "output_type": "stream",
     "text": [
      "                 infl\n",
      "2008-04-01   0.000000\n",
      "2008-07-01 -10.205718\n",
      "2008-10-01  -6.890055\n",
      "2009-01-01  -4.651595\n",
      "2009-04-01  -3.140371\n",
      "\n",
      "2008-07-01   -10.205718\n",
      "2008-10-01    -6.890055\n",
      "2009-01-01    -4.651595\n",
      "2009-04-01    -3.140371\n",
      "dtype: float64\n"
     ]
    }
   ],
   "source": [
    "# Print the total impacts, computed by the `news` method\n",
    "# (Note: news.total_impacts = news.revision_impacts + news.update_impacts, but\n",
    "# here there are no data revisions, so total and update impacts are the same)\n",
    "print(news.total_impacts)\n",
    "\n",
    "# Manually compute the impacts\n",
    "print()\n",
    "print(forecasts_post - forecasts_pre)"
   ]
  },
  {
   "cell_type": "code",
   "execution_count": 29,
   "id": "f5f426cd-6b91-4dfa-9dbd-3a6d4125053b",
   "metadata": {},
   "outputs": [
    {
     "name": "stdout",
     "output_type": "stream",
     "text": [
      "impact date                  2008-04-01 2008-07-01 2008-10-01 2009-01-01  \\\n",
      "impacted variable                  infl       infl       infl       infl   \n",
      "update date updated variable                                               \n",
      "2008-07-01  infl                    0.0        1.0   0.675117   0.455783   \n",
      "\n",
      "impact date                  2009-04-01  \n",
      "impacted variable                  infl  \n",
      "update date updated variable             \n",
      "2008-07-01  infl               0.307707  \n",
      "\n",
      "[1.       0.675117 0.455783 0.307707]\n"
     ]
    }
   ],
   "source": [
    "# Print the weights, computed by the `news` method\n",
    "print(news.weights)\n",
    "\n",
    "# Manually compute the weights\n",
    "print()\n",
    "print(np.array([1, phi_hat, phi_hat**2, phi_hat**3]).round(6))"
   ]
  },
  {
   "cell_type": "code",
   "execution_count": null,
   "id": "d3540d5f-9e1a-475f-8d9b-0108d14b81e1",
   "metadata": {},
   "outputs": [],
   "source": []
  },
  {
   "cell_type": "code",
   "execution_count": null,
   "id": "db1ea1ff-b7d4-4e8c-8897-f24d5da9fbd1",
   "metadata": {},
   "outputs": [],
   "source": []
  },
  {
   "cell_type": "code",
   "execution_count": null,
   "id": "d1c50bcd-daf0-4569-8a03-c109bf74acef",
   "metadata": {},
   "outputs": [],
   "source": []
  },
  {
   "cell_type": "code",
   "execution_count": 43,
   "id": "a5edb096-91fc-4108-b560-b82470de9b26",
   "metadata": {},
   "outputs": [],
   "source": [
    "###\n",
    "\n",
    "import pandas_datareader as pdr\n",
    "levels = pdr.get_data_fred(['PCEPILFE', 'CPILFESL'], start='1999', end='2023').to_period('M')\n",
    "infl = np.log(levels).diff().iloc[1:] * 1200\n",
    "infl.columns = ['PCE', 'CPI']\n",
    "\n",
    "# Remove two outliers and de-mean the series\n",
    "infl['PCE'].loc['2001-09':'2001-10'] = np.nan"
   ]
  },
  {
   "cell_type": "code",
   "execution_count": 44,
   "id": "5fd82941-4d48-4b2c-abc6-4dc81da9a7dd",
   "metadata": {},
   "outputs": [
    {
     "data": {
      "text/html": [
       "<div>\n",
       "<style scoped>\n",
       "    .dataframe tbody tr th:only-of-type {\n",
       "        vertical-align: middle;\n",
       "    }\n",
       "\n",
       "    .dataframe tbody tr th {\n",
       "        vertical-align: top;\n",
       "    }\n",
       "\n",
       "    .dataframe thead th {\n",
       "        text-align: right;\n",
       "    }\n",
       "</style>\n",
       "<table border=\"1\" class=\"dataframe\">\n",
       "  <thead>\n",
       "    <tr style=\"text-align: right;\">\n",
       "      <th></th>\n",
       "      <th>PCE</th>\n",
       "      <th>CPI</th>\n",
       "    </tr>\n",
       "    <tr>\n",
       "      <th>DATE</th>\n",
       "      <th></th>\n",
       "      <th></th>\n",
       "    </tr>\n",
       "  </thead>\n",
       "  <tbody>\n",
       "    <tr>\n",
       "      <th>1999-02</th>\n",
       "      <td>-0.411363</td>\n",
       "      <td>0.000000</td>\n",
       "    </tr>\n",
       "    <tr>\n",
       "      <th>1999-03</th>\n",
       "      <td>0.365663</td>\n",
       "      <td>0.683177</td>\n",
       "    </tr>\n",
       "    <tr>\n",
       "      <th>1999-04</th>\n",
       "      <td>3.073258</td>\n",
       "      <td>4.090913</td>\n",
       "    </tr>\n",
       "    <tr>\n",
       "      <th>1999-05</th>\n",
       "      <td>1.154241</td>\n",
       "      <td>1.360544</td>\n",
       "    </tr>\n",
       "    <tr>\n",
       "      <th>1999-06</th>\n",
       "      <td>0.622222</td>\n",
       "      <td>0.679694</td>\n",
       "    </tr>\n",
       "    <tr>\n",
       "      <th>...</th>\n",
       "      <td>...</td>\n",
       "      <td>...</td>\n",
       "    </tr>\n",
       "    <tr>\n",
       "      <th>2021-12</th>\n",
       "      <td>6.100817</td>\n",
       "      <td>6.723156</td>\n",
       "    </tr>\n",
       "    <tr>\n",
       "      <th>2022-01</th>\n",
       "      <td>5.264391</td>\n",
       "      <td>6.978999</td>\n",
       "    </tr>\n",
       "    <tr>\n",
       "      <th>2022-02</th>\n",
       "      <td>3.645593</td>\n",
       "      <td>6.046932</td>\n",
       "    </tr>\n",
       "    <tr>\n",
       "      <th>2022-03</th>\n",
       "      <td>3.950939</td>\n",
       "      <td>3.882859</td>\n",
       "    </tr>\n",
       "    <tr>\n",
       "      <th>2022-04</th>\n",
       "      <td>4.125174</td>\n",
       "      <td>6.811397</td>\n",
       "    </tr>\n",
       "  </tbody>\n",
       "</table>\n",
       "<p>279 rows × 2 columns</p>\n",
       "</div>"
      ],
      "text/plain": [
       "              PCE       CPI\n",
       "DATE                       \n",
       "1999-02 -0.411363  0.000000\n",
       "1999-03  0.365663  0.683177\n",
       "1999-04  3.073258  4.090913\n",
       "1999-05  1.154241  1.360544\n",
       "1999-06  0.622222  0.679694\n",
       "...           ...       ...\n",
       "2021-12  6.100817  6.723156\n",
       "2022-01  5.264391  6.978999\n",
       "2022-02  3.645593  6.046932\n",
       "2022-03  3.950939  3.882859\n",
       "2022-04  4.125174  6.811397\n",
       "\n",
       "[279 rows x 2 columns]"
      ]
     },
     "execution_count": 44,
     "metadata": {},
     "output_type": "execute_result"
    }
   ],
   "source": [
    "infl"
   ]
  },
  {
   "cell_type": "code",
   "execution_count": 45,
   "id": "3ec35fce-99f7-4340-a497-67789cda940c",
   "metadata": {},
   "outputs": [
    {
     "name": "stdout",
     "output_type": "stream",
     "text": [
      "              PCE       CPI\n",
      "DATE                       \n",
      "2021-09  2.882884  3.050833\n",
      "2021-10  5.644166  7.212130\n",
      "2021-11  5.718180  6.262539\n",
      "2021-12  6.100817  6.723156\n",
      "2022-01  5.264391  6.978999\n"
     ]
    },
    {
     "data": {
      "text/html": [
       "<div>\n",
       "<style scoped>\n",
       "    .dataframe tbody tr th:only-of-type {\n",
       "        vertical-align: middle;\n",
       "    }\n",
       "\n",
       "    .dataframe tbody tr th {\n",
       "        vertical-align: top;\n",
       "    }\n",
       "\n",
       "    .dataframe thead th {\n",
       "        text-align: right;\n",
       "    }\n",
       "</style>\n",
       "<table border=\"1\" class=\"dataframe\">\n",
       "  <thead>\n",
       "    <tr style=\"text-align: right;\">\n",
       "      <th></th>\n",
       "      <th>PCE</th>\n",
       "      <th>CPI</th>\n",
       "    </tr>\n",
       "    <tr>\n",
       "      <th>DATE</th>\n",
       "      <th></th>\n",
       "      <th></th>\n",
       "    </tr>\n",
       "  </thead>\n",
       "  <tbody>\n",
       "    <tr>\n",
       "      <th>1999-02</th>\n",
       "      <td>-0.411363</td>\n",
       "      <td>0.000000</td>\n",
       "    </tr>\n",
       "    <tr>\n",
       "      <th>1999-03</th>\n",
       "      <td>0.365663</td>\n",
       "      <td>0.683177</td>\n",
       "    </tr>\n",
       "    <tr>\n",
       "      <th>1999-04</th>\n",
       "      <td>3.073258</td>\n",
       "      <td>4.090913</td>\n",
       "    </tr>\n",
       "    <tr>\n",
       "      <th>1999-05</th>\n",
       "      <td>1.154241</td>\n",
       "      <td>1.360544</td>\n",
       "    </tr>\n",
       "    <tr>\n",
       "      <th>1999-06</th>\n",
       "      <td>0.622222</td>\n",
       "      <td>0.679694</td>\n",
       "    </tr>\n",
       "    <tr>\n",
       "      <th>...</th>\n",
       "      <td>...</td>\n",
       "      <td>...</td>\n",
       "    </tr>\n",
       "    <tr>\n",
       "      <th>2021-09</th>\n",
       "      <td>2.882884</td>\n",
       "      <td>3.050833</td>\n",
       "    </tr>\n",
       "    <tr>\n",
       "      <th>2021-10</th>\n",
       "      <td>5.644166</td>\n",
       "      <td>7.212130</td>\n",
       "    </tr>\n",
       "    <tr>\n",
       "      <th>2021-11</th>\n",
       "      <td>5.718180</td>\n",
       "      <td>6.262539</td>\n",
       "    </tr>\n",
       "    <tr>\n",
       "      <th>2021-12</th>\n",
       "      <td>6.100817</td>\n",
       "      <td>6.723156</td>\n",
       "    </tr>\n",
       "    <tr>\n",
       "      <th>2022-01</th>\n",
       "      <td>5.264391</td>\n",
       "      <td>6.978999</td>\n",
       "    </tr>\n",
       "  </tbody>\n",
       "</table>\n",
       "<p>276 rows × 2 columns</p>\n",
       "</div>"
      ],
      "text/plain": [
       "              PCE       CPI\n",
       "DATE                       \n",
       "1999-02 -0.411363  0.000000\n",
       "1999-03  0.365663  0.683177\n",
       "1999-04  3.073258  4.090913\n",
       "1999-05  1.154241  1.360544\n",
       "1999-06  0.622222  0.679694\n",
       "...           ...       ...\n",
       "2021-09  2.882884  3.050833\n",
       "2021-10  5.644166  7.212130\n",
       "2021-11  5.718180  6.262539\n",
       "2021-12  6.100817  6.723156\n",
       "2022-01  5.264391  6.978999\n",
       "\n",
       "[276 rows x 2 columns]"
      ]
     },
     "execution_count": 45,
     "metadata": {},
     "output_type": "execute_result"
    }
   ],
   "source": [
    "# Previous dataset runs through 2017-02\n",
    "y_pre = infl.loc[:'2022-01'].copy()\n",
    "const_pre = np.ones(len(y_pre))\n",
    "print(y_pre.tail())\n",
    "y_pre"
   ]
  },
  {
   "cell_type": "code",
   "execution_count": 46,
   "id": "8f51f7b4-f249-4133-81b3-8e9e2de6cdc0",
   "metadata": {},
   "outputs": [
    {
     "name": "stdout",
     "output_type": "stream",
     "text": [
      "              PCE       CPI\n",
      "DATE                       \n",
      "2021-11  5.718180  6.262539\n",
      "2021-12  6.100817  6.723156\n",
      "2022-01  5.264391  6.978999\n",
      "2022-02  3.645593  6.046932\n",
      "2022-03       NaN  3.882859\n"
     ]
    }
   ],
   "source": [
    "# For the updated dataset, we'll just add in the\n",
    "# CPI value for 2022-03\n",
    "y_post = infl.loc[:'2022-03'].copy()\n",
    "y_post.loc['2022-03', 'PCE'] = np.nan\n",
    "const_post = np.ones(len(y_post))\n",
    "\n",
    "# Notice the missing value for PCE in 2022-03\n",
    "print(y_post.tail())"
   ]
  },
  {
   "cell_type": "code",
   "execution_count": 47,
   "id": "4262b95f-facb-4f43-b265-b8d13a82f51b",
   "metadata": {},
   "outputs": [
    {
     "data": {
      "image/png": "[encoded data removed]",
      "text/plain": [
       "<Figure size 1080x216 with 1 Axes>"
      ]
     },
     "metadata": {
      "needs_background": "light"
     },
     "output_type": "display_data"
    }
   ],
   "source": [
    "# Plot the updated dataset\n",
    "fig, ax = plt.subplots(figsize=(15, 3))\n",
    "y_post.plot(ax=ax)\n",
    "ax.hlines(0, '2009', '2022-06', linewidth=1.0)\n",
    "ax.set_xlim('2009', '2022-06');"
   ]
  },
  {
   "cell_type": "code",
   "execution_count": 48,
   "id": "10622eee-c3c6-40e1-ab6b-c9ca9b77b9c5",
   "metadata": {},
   "outputs": [
    {
     "name": "stdout",
     "output_type": "stream",
     "text": [
      "RUNNING THE L-BFGS-B CODE\n",
      "\n",
      "           * * *\n",
      "\n",
      "Machine precision = 2.220D-16\n",
      " N =           12     M =           10\n",
      "\n",
      "At X0         0 variables are exactly at the bounds\n",
      "\n",
      "At iterate    0    f=  5.66041D+00    |proj g|=  2.96055D-01\n",
      "\n",
      "At iterate    5    f=  4.66058D+00    |proj g|=  2.25803D-01\n"
     ]
    },
    {
     "name": "stderr",
     "output_type": "stream",
     "text": [
      " This problem is unconstrained.\n"
     ]
    },
    {
     "name": "stdout",
     "output_type": "stream",
     "text": [
      "\n",
      "At iterate   10    f=  3.39821D+00    |proj g|=  4.34547D-01\n",
      "\n",
      "At iterate   15    f=  3.25127D+00    |proj g|=  2.96817D-01\n",
      "\n",
      "At iterate   20    f=  3.11175D+00    |proj g|=  4.38242D-02\n",
      "\n",
      "At iterate   25    f=  3.08445D+00    |proj g|=  8.59593D-02\n",
      "\n",
      "At iterate   30    f=  3.07493D+00    |proj g|=  5.13300D-02\n",
      "\n",
      "At iterate   35    f=  3.06255D+00    |proj g|=  3.76266D-02\n",
      "\n",
      "At iterate   40    f=  3.03843D+00    |proj g|=  8.85176D-02\n",
      "\n",
      "At iterate   45    f=  3.00266D+00    |proj g|=  5.67313D-02\n",
      "\n",
      "At iterate   50    f=  2.99369D+00    |proj g|=  1.00464D-02\n",
      "\n",
      "           * * *\n",
      "\n",
      "Tit   = total number of iterations\n",
      "Tnf   = total number of function evaluations\n",
      "Tnint = total number of segments explored during Cauchy searches\n",
      "Skip  = number of BFGS updates skipped\n",
      "Nact  = number of active bounds at final generalized Cauchy point\n",
      "Projg = norm of the final projected gradient\n",
      "F     = final function value\n",
      "\n",
      "           * * *\n",
      "\n",
      "   N    Tit     Tnf  Tnint  Skip  Nact     Projg        F\n",
      "   12     50     70      1     0     0   1.005D-02   2.994D+00\n",
      "  F =   2.9936896238699693     \n",
      "\n",
      "STOP: TOTAL NO. of ITERATIONS REACHED LIMIT                 \n",
      "                                   Statespace Model Results                                  \n",
      "=============================================================================================\n",
      "Dep. Variable:                        ['PCE', 'CPI']   No. Observations:                  276\n",
      "Model:             DynamicFactor(factors=1, order=6)   Log Likelihood                -826.258\n",
      "                                      + 1 regressors   AIC                           1676.517\n",
      "Date:                               Mon, 06 Jun 2022   BIC                           1719.961\n",
      "Time:                                       14:20:25   HQIC                          1693.950\n",
      "Sample:                                   02-28-1999                                         \n",
      "                                        - 01-31-2022                                         \n",
      "Covariance Type:                                 opg                                         \n",
      "===================================================================================\n",
      "Ljung-Box (L1) (Q):             0.02, 0.23   Jarque-Bera (JB):          96.31, 9.74\n",
      "Prob(Q):                        0.90, 0.63   Prob(JB):                   0.00, 0.01\n",
      "Heteroskedasticity (H):         2.00, 1.09   Skew:                      0.47, -0.00\n",
      "Prob(H) (two-sided):            0.00, 0.68   Kurtosis:                   5.73, 3.92\n",
      "                           Results for equation PCE                           \n",
      "==============================================================================\n",
      "                 coef    std err          z      P>|z|      [0.025      0.975]\n",
      "------------------------------------------------------------------------------\n",
      "loading.f1    -0.8825      0.052    -17.035      0.000      -0.984      -0.781\n",
      "beta.const     1.8950      0.130     14.537      0.000       1.640       2.151\n",
      "                           Results for equation CPI                           \n",
      "==============================================================================\n",
      "                 coef    std err          z      P>|z|      [0.025      0.975]\n",
      "------------------------------------------------------------------------------\n",
      "loading.f1    -1.1189      0.066    -16.883      0.000      -1.249      -0.989\n",
      "beta.const     2.1706      0.166     13.038      0.000       1.844       2.497\n",
      "                        Results for factor equation f1                        \n",
      "==============================================================================\n",
      "                 coef    std err          z      P>|z|      [0.025      0.975]\n",
      "------------------------------------------------------------------------------\n",
      "L1.f1          0.9645      0.056     17.358      0.000       0.856       1.073\n",
      "L2.f1          0.1386      0.101      1.370      0.171      -0.060       0.337\n",
      "L3.f1         -0.5213      0.107     -4.891      0.000      -0.730      -0.312\n",
      "L4.f1          0.2491      0.104      2.387      0.017       0.045       0.454\n",
      "L5.f1          0.1129      0.111      1.022      0.307      -0.104       0.330\n",
      "L6.f1         -0.3980      0.064     -6.262      0.000      -0.523      -0.273\n",
      "                           Error covariance matrix                            \n",
      "==============================================================================\n",
      "                 coef    std err          z      P>|z|      [0.025      0.975]\n",
      "------------------------------------------------------------------------------\n",
      "sigma2.PCE     0.5580      0.052     10.831      0.000       0.457       0.659\n",
      "sigma2.CPI     0.3421      0.074      4.596      0.000       0.196       0.488\n",
      "==============================================================================\n",
      "\n",
      "Warnings:\n",
      "[1] Covariance matrix calculated using the outer product of gradients (complex-step).\n"
     ]
    }
   ],
   "source": [
    "mod_pre = sm.tsa.DynamicFactor(y_pre, exog=const_pre, k_factors=1, factor_order=6)\n",
    "res_pre = mod_pre.fit()\n",
    "print(res_pre.summary())"
   ]
  },
  {
   "cell_type": "code",
   "execution_count": 49,
   "id": "7abef81c-1da8-4315-9216-50836f44903f",
   "metadata": {},
   "outputs": [],
   "source": [
    "# Create the news results\n",
    "# Note\n",
    "const_post_plus1 = np.ones(len(y_post) + 1)\n",
    "news = res_pre.news(y_post, exog=const_post_plus1, start='2022-03', end='2022-04')"
   ]
  },
  {
   "cell_type": "code",
   "execution_count": 50,
   "id": "eedf91e3-53f9-41b4-9a54-cb28d3705160",
   "metadata": {},
   "outputs": [],
   "source": [
    "res_post = res_pre.apply(y_post, exog=const_post)\n",
    "news = res_pre.news(res_post, exog=[1.], start='2022-03', end='2022-04')"
   ]
  },
  {
   "cell_type": "code",
   "execution_count": 51,
   "id": "0039ae24-7f82-439e-9d69-985939f57976",
   "metadata": {},
   "outputs": [
    {
     "name": "stdout",
     "output_type": "stream",
     "text": [
      "                                     News                                     \n",
      "==============================================================================\n",
      "Model:                  DynamicFactor   Original sample:               1999-02\n",
      "Date:                Mon, 06 Jun 2022                                - 2022-01\n",
      "Time:                        14:21:05   Update through:                2022-04\n",
      "                                        No. Revisions:                       0\n",
      "                                        No. New datapoints:                  3\n",
      "                                  Impacts                                  \n",
      "===========================================================================\n",
      "impact date impacted variable estimate (prev) impact of news estimate (new)\n",
      "---------------------------------------------------------------------------\n",
      "    2022-03               CPI            4.59          -0.56           4.03\n",
      "                          PCE            3.81          -0.44           3.36\n",
      "    2022-04               CPI            2.63          -0.53           2.10\n",
      "                          PCE            2.26          -0.42           1.84\n",
      "                  News from updated observations:                  \n",
      "===================================================================\n",
      "update date updated variable   observed forecast (prev)        news\n",
      "-------------------------------------------------------------------\n",
      "    2022-02              CPI       6.05            5.48        0.57\n",
      "                         PCE       3.65            4.50       -0.86\n",
      "    2022-03              CPI       3.88            4.59       -0.71\n",
      "===================================================================\n"
     ]
    }
   ],
   "source": [
    "# Show the summary of the news results\n",
    "print(news.summary())"
   ]
  },
  {
   "cell_type": "code",
   "execution_count": 52,
   "id": "8335907e-a63b-44d9-8f98-7e375c124ca0",
   "metadata": {},
   "outputs": [
    {
     "name": "stdout",
     "output_type": "stream",
     "text": [
      "                                                       Details                                                        \n",
      "======================================================================================================================\n",
      "update date updated variable   observed forecast (prev) impact date impacted variable       news     weight     impact\n",
      "----------------------------------------------------------------------------------------------------------------------\n",
      "    2022-02              CPI       6.05            5.48     2022-03               CPI       0.57       0.11       0.06\n",
      "                                                                                  PCE       0.57       0.09       0.05\n",
      "                                                            2022-04               CPI       0.57       0.15       0.09\n",
      "                                                                                  PCE       0.57       0.12       0.07\n",
      "                         PCE       3.65            4.50     2022-03               CPI      -0.86       0.05      -0.05\n",
      "                                                                                  PCE      -0.86       0.04      -0.04\n",
      "                                                            2022-04               CPI      -0.86       0.07      -0.06\n",
      "                                                                                  PCE      -0.86       0.06      -0.05\n",
      "    2022-03              CPI       3.88            4.59     2022-03               CPI      -0.71       0.82      -0.58\n",
      "                                                                                  PCE      -0.71       0.64      -0.46\n",
      "                                                            2022-04               CPI      -0.71       0.78      -0.55\n",
      "                                                                                  PCE      -0.71       0.61      -0.44\n",
      "======================================================================================================================\n"
     ]
    }
   ],
   "source": [
    "print(news.summary_details())\n"
   ]
  },
  {
   "cell_type": "raw",
   "id": "8574fdb1-4473-41f8-a978-f6ee71c777bb",
   "metadata": {},
   "source": [
    "\n",
    "This table shows that most of the revisions to the estimate of PCE in April 2022, described above, came from the news associated with the CPI release in March 2022. By contrast, the CPI release in February had only a little effect on the April forecast, and the PCE release in February had essentially no effect.\n",
    "\n"
   ]
  },
  {
   "cell_type": "code",
   "execution_count": null,
   "id": "9f63b2aa-c165-47d0-86bd-d9e61b69a3f9",
   "metadata": {},
   "outputs": [],
   "source": []
  }
 ],
 "metadata": {
  "kernelspec": {
   "display_name": "Python 3 (ipykernel)",
   "language": "python",
   "name": "python3"
  },
  "language_info": {
   "codemirror_mode": {
    "name": "ipython",
    "version": 3
   },
   "file_extension": ".py",
   "mimetype": "text/x-python",
   "name": "python",
   "nbconvert_exporter": "python",
   "pygments_lexer": "ipython3",
   "version": "3.9.7"
  }
 },
 "nbformat": 4,
 "nbformat_minor": 5
}
